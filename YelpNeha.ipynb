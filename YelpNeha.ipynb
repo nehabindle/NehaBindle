{
  "nbformat": 4,
  "nbformat_minor": 0,
  "metadata": {
    "colab": {
      "name": "YelpNeha.ipynb",
      "version": "0.3.2",
      "provenance": [],
      "collapsed_sections": [],
      "include_colab_link": true
    },
    "kernelspec": {
      "name": "python3",
      "display_name": "Python 3"
    },
    "accelerator": "GPU"
  },
  "cells": [
    {
      "cell_type": "markdown",
      "metadata": {
        "id": "view-in-github",
        "colab_type": "text"
      },
      "source": [
        "<a href=\"https://colab.research.google.com/github/nehabindle/NehaBindle/blob/master/YelpNeha.ipynb\" target=\"_parent\"><img src=\"https://colab.research.google.com/assets/colab-badge.svg\" alt=\"Open In Colab\"/></a>"
      ]
    },
    {
      "metadata": {
        "id": "LF-9gLjfI59x",
        "colab_type": "code",
        "outputId": "33a5713c-4dd3-41ce-844d-8aaf84e64650",
        "colab": {
          "base_uri": "https://localhost:8080/",
          "height": 122
        }
      },
      "cell_type": "code",
      "source": [
        "from google.colab import drive\n",
        "drive.mount('/content/gdrive')\n",
        "!ln -s gdrive/'Team Drives'/'Data Mining Team'/ gdata"
      ],
      "execution_count": 2,
      "outputs": [
        {
          "output_type": "stream",
          "text": [
            "Go to this URL in a browser: https://accounts.google.com/o/oauth2/auth?client_id=947318989803-6bn6qk8qdgf4n4g3pfee6491hc0brc4i.apps.googleusercontent.com&redirect_uri=urn%3Aietf%3Awg%3Aoauth%3A2.0%3Aoob&scope=email%20https%3A%2F%2Fwww.googleapis.com%2Fauth%2Fdocs.test%20https%3A%2F%2Fwww.googleapis.com%2Fauth%2Fdrive%20https%3A%2F%2Fwww.googleapis.com%2Fauth%2Fdrive.photos.readonly%20https%3A%2F%2Fwww.googleapis.com%2Fauth%2Fpeopleapi.readonly&response_type=code\n",
            "\n",
            "Enter your authorization code:\n",
            "··········\n",
            "Mounted at /content/gdrive\n"
          ],
          "name": "stdout"
        }
      ]
    },
    {
      "metadata": {
        "id": "xKp8CrA-rMPh",
        "colab_type": "code",
        "outputId": "593e4e4a-6253-48cd-b7bd-372339c6ac13",
        "colab": {
          "base_uri": "https://localhost:8080/",
          "height": 68
        }
      },
      "cell_type": "code",
      "source": [
        "!ls gdata/"
      ],
      "execution_count": 3,
      "outputs": [
        {
          "output_type": "stream",
          "text": [
            "'Preprocessing link.gdoc'   yelpDataset.ipynb\t      yelpHotelData.db\n",
            "'Project proposal.gdoc'     yelpDataset_kunj.ipynb    YelpNeha.ipynb\n",
            "'Untitled document.gdoc'    yelpDataset_shrey.ipynb\n"
          ],
          "name": "stdout"
        }
      ]
    },
    {
      "metadata": {
        "id": "m9JrfOj3rTQL",
        "colab_type": "code",
        "outputId": "9edaf890-5eb5-4aad-c8b6-80e7a87807fe",
        "colab": {
          "base_uri": "https://localhost:8080/",
          "height": 85
        }
      },
      "cell_type": "code",
      "source": [
        "!pip install contractions"
      ],
      "execution_count": 4,
      "outputs": [
        {
          "output_type": "stream",
          "text": [
            "Collecting contractions\n",
            "  Downloading https://files.pythonhosted.org/packages/67/f7/1462c6d28ec27ef2812aa2e9376c7fc7b39a23f0e02297f71119d74375c5/contractions-0.0.18-py2.py3-none-any.whl\n",
            "Installing collected packages: contractions\n",
            "Successfully installed contractions-0.0.18\n"
          ],
          "name": "stdout"
        }
      ]
    },
    {
      "metadata": {
        "id": "91IrYLFVrec1",
        "colab_type": "code",
        "colab": {}
      },
      "cell_type": "code",
      "source": [
        "import numpy as np\n",
        "import pandas as pd\n",
        "import nltk\n",
        "import spacy\n",
        "from tqdm import tqdm\n",
        "import os\n",
        "import seaborn as sns\n",
        "import matplotlib.pyplot as plt\n",
        "import re, string, unicodedata\n",
        "import contractions\n",
        "import inflect\n",
        "from bs4 import BeautifulSoup\n",
        "from nltk import word_tokenize, sent_tokenize\n",
        "from nltk.corpus import stopwords\n",
        "from nltk.stem import LancasterStemmer, WordNetLemmatizer"
      ],
      "execution_count": 0,
      "outputs": []
    },
    {
      "metadata": {
        "id": "6PzJio6orj_g",
        "colab_type": "code",
        "colab": {}
      },
      "cell_type": "code",
      "source": [
        "import sqlite3\n",
        "import pandas as pd\n",
        "connection = sqlite3.connect('gdata/yelpHotelData.db')\n",
        "x1 = connection.execute(\"select * FROM review\")"
      ],
      "execution_count": 0,
      "outputs": []
    },
    {
      "metadata": {
        "id": "uj05VKx5rmN3",
        "colab_type": "code",
        "colab": {}
      },
      "cell_type": "code",
      "source": [
        "description = []\n",
        "Class = []\n",
        "\n",
        "data = x1.fetchmany(10000)\n",
        "\n",
        "for x in data:\n",
        "  description.append(x[3])\n",
        "  Class.append(x[8])\n",
        "trainData = {'Class' : Class, 'Description' : description}\n",
        "df_X = pd.DataFrame(trainData)"
      ],
      "execution_count": 0,
      "outputs": []
    },
    {
      "metadata": {
        "id": "nqkipX4prrvn",
        "colab_type": "code",
        "outputId": "9493969a-f90f-4b14-c499-28efeec8c2be",
        "colab": {
          "base_uri": "https://localhost:8080/",
          "height": 102
        }
      },
      "cell_type": "code",
      "source": [
        "df_X['Class'].value_counts()\n",
        "#df_X"
      ],
      "execution_count": 8,
      "outputs": [
        {
          "output_type": "execute_result",
          "data": {
            "text/plain": [
              "N     5078\n",
              "NR    2461\n",
              "YR    1681\n",
              "Y      780\n",
              "Name: Class, dtype: int64"
            ]
          },
          "metadata": {
            "tags": []
          },
          "execution_count": 8
        }
      ]
    },
    {
      "metadata": {
        "id": "XAsLXK7qrwR3",
        "colab_type": "code",
        "colab": {}
      },
      "cell_type": "code",
      "source": [
        "import time\n",
        "import pickle\n",
        "pd.set_option('display.max_colwidth', 200)"
      ],
      "execution_count": 0,
      "outputs": []
    },
    {
      "metadata": {
        "id": "tB_4YaGjr0KO",
        "colab_type": "code",
        "outputId": "e9cc4cd7-37fb-462e-95c5-425101c7a263",
        "colab": {
          "base_uri": "https://localhost:8080/",
          "height": 102
        }
      },
      "cell_type": "code",
      "source": [
        "df_X['Class'].value_counts(normalize = True)"
      ],
      "execution_count": 10,
      "outputs": [
        {
          "output_type": "execute_result",
          "data": {
            "text/plain": [
              "N     0.5078\n",
              "NR    0.2461\n",
              "YR    0.1681\n",
              "Y     0.0780\n",
              "Name: Class, dtype: float64"
            ]
          },
          "metadata": {
            "tags": []
          },
          "execution_count": 10
        }
      ]
    },
    {
      "metadata": {
        "id": "S9vkG0z_r4DE",
        "colab_type": "code",
        "colab": {}
      },
      "cell_type": "code",
      "source": [
        "# remove URL's from train and test\n",
        " df_X['clean_desc']= df_X['Description'].apply(lambda x: re.sub(r'http\\S+', '', x))\n"
      ],
      "execution_count": 0,
      "outputs": []
    },
    {
      "metadata": {
        "id": "F67R4HWnvZ31",
        "colab_type": "code",
        "colab": {}
      },
      "cell_type": "code",
      "source": [
        "# remove punctuation marks\n",
        "punctuation = '!\"#$%&()*+-/:;<=>?@[\\\\]^_`{|}~.,'\n",
        "\n",
        "df_X['clean_desc'] = df_X['clean_desc'].apply(lambda x: ''.join(ch for ch in x if ch not in set(punctuation)))"
      ],
      "execution_count": 0,
      "outputs": []
    },
    {
      "metadata": {
        "id": "XZEMxfe9vhGL",
        "colab_type": "code",
        "colab": {}
      },
      "cell_type": "code",
      "source": [
        "# convert text to lowercase\n",
        "df_X['clean_desc'] = df_X['clean_desc'].str.lower()"
      ],
      "execution_count": 0,
      "outputs": []
    },
    {
      "metadata": {
        "id": "YURaWwoivmHI",
        "colab_type": "code",
        "colab": {}
      },
      "cell_type": "code",
      "source": [
        "# remove whitespaces\n",
        "df_X['clean_desc'] = df_X['clean_desc'].apply(lambda x:' '.join(x.split()))"
      ],
      "execution_count": 0,
      "outputs": []
    },
    {
      "metadata": {
        "id": "mq4VDzfRvsAz",
        "colab_type": "code",
        "colab": {}
      },
      "cell_type": "code",
      "source": [
        "# import spaCy's language model\n",
        "nlp = spacy.load('en', disable=['parser', 'ner'])\n"
      ],
      "execution_count": 0,
      "outputs": []
    },
    {
      "metadata": {
        "id": "bUMhVLVwvtvh",
        "colab_type": "code",
        "colab": {}
      },
      "cell_type": "code",
      "source": [
        "# tokenization using spaCy\n",
        "def tokenization(x):\n",
        "    desc_tokens = []\n",
        "    for i in tqdm(x):\n",
        "        i = nlp(i)\n",
        "        temp = []\n",
        "        for j in i:\n",
        "            temp.append(j.text)\n",
        "        desc_tokens.append(temp)\n",
        "    \n",
        "    return desc_tokens"
      ],
      "execution_count": 0,
      "outputs": []
    },
    {
      "metadata": {
        "id": "kwyPLShsw_fj",
        "colab_type": "code",
        "outputId": "5f2686f7-5bf0-4972-a3ff-c282621507be",
        "colab": {
          "base_uri": "https://localhost:8080/",
          "height": 34
        }
      },
      "cell_type": "code",
      "source": [
        "#Tokenization for Train data\n",
        "df_X['clean_desc'] = tokenization(df_X['clean_desc'])"
      ],
      "execution_count": 18,
      "outputs": [
        {
          "output_type": "stream",
          "text": [
            "100%|██████████| 10000/10000 [01:59<00:00, 83.45it/s]\n"
          ],
          "name": "stderr"
        }
      ]
    },
    {
      "metadata": {
        "id": "jqvSmpQ4HMvu",
        "colab_type": "code",
        "colab": {}
      },
      "cell_type": "code",
      "source": [
        "#function to remove stopwords\n",
        "def remove_stopwords(desc):\n",
        "    s = []\n",
        "    for r in tqdm(desc):\n",
        "        s_2 = []\n",
        "        for token in r:\n",
        "            if nlp.vocab[token].is_stop == True:\n",
        "                continue\n",
        "            else:\n",
        "                s_2.append(token)\n",
        "        s.append(\" \".join(s_2))    \n",
        "        \n",
        "    return s"
      ],
      "execution_count": 0,
      "outputs": []
    },
    {
      "metadata": {
        "id": "rKMhD0FpHlbZ",
        "colab_type": "code",
        "colab": {}
      },
      "cell_type": "code",
      "source": [
        ""
      ],
      "execution_count": 0,
      "outputs": []
    },
    {
      "metadata": {
        "id": "UT556Y9-HlpW",
        "colab_type": "code",
        "colab": {
          "base_uri": "https://localhost:8080/",
          "height": 34
        },
        "outputId": "f464908f-762e-476a-aa12-3c4d62bac04a"
      },
      "cell_type": "code",
      "source": [
        "df_X['clean_desc'] = remove_stopwords(df_X['clean_desc'])"
      ],
      "execution_count": 20,
      "outputs": [
        {
          "output_type": "stream",
          "text": [
            "100%|██████████| 10000/10000 [00:02<00:00, 4954.73it/s]\n"
          ],
          "name": "stderr"
        }
      ]
    },
    {
      "metadata": {
        "id": "vNKZIFU0HpNu",
        "colab_type": "code",
        "colab": {}
      },
      "cell_type": "code",
      "source": [
        "# function to lemmatize text\n",
        "def lemmatization(texts):\n",
        "    output = []\n",
        "    for i in texts:\n",
        "             s = [token.lemma_ for token in nlp(i)]\n",
        "             output.append(' '.join(s))\n",
        "    return output"
      ],
      "execution_count": 0,
      "outputs": []
    },
    {
      "metadata": {
        "id": "HRqxAZUSHr3I",
        "colab_type": "code",
        "colab": {}
      },
      "cell_type": "code",
      "source": [
        "df_X['clean_desc'] = lemmatization(df_X['clean_desc'])"
      ],
      "execution_count": 0,
      "outputs": []
    },
    {
      "metadata": {
        "id": "p86jbqWkHvn5",
        "colab_type": "code",
        "colab": {
          "base_uri": "https://localhost:8080/",
          "height": 512
        },
        "outputId": "6f620405-d2ee-4afb-a2e4-b3ab018fecb4"
      },
      "cell_type": "code",
      "source": [
        "df_X.sample(10)"
      ],
      "execution_count": 23,
      "outputs": [
        {
          "output_type": "execute_result",
          "data": {
            "text/html": [
              "<div>\n",
              "<style scoped>\n",
              "    .dataframe tbody tr th:only-of-type {\n",
              "        vertical-align: middle;\n",
              "    }\n",
              "\n",
              "    .dataframe tbody tr th {\n",
              "        vertical-align: top;\n",
              "    }\n",
              "\n",
              "    .dataframe thead th {\n",
              "        text-align: right;\n",
              "    }\n",
              "</style>\n",
              "<table border=\"1\" class=\"dataframe\">\n",
              "  <thead>\n",
              "    <tr style=\"text-align: right;\">\n",
              "      <th></th>\n",
              "      <th>Class</th>\n",
              "      <th>Description</th>\n",
              "      <th>clean_desc</th>\n",
              "    </tr>\n",
              "  </thead>\n",
              "  <tbody>\n",
              "    <tr>\n",
              "      <th>639</th>\n",
              "      <td>N</td>\n",
              "      <td>I enjoyed my 3 night stay  here. The only thing I didn't like about my room was that it didn't have a microwave or  a fridge. I mean they provided us with chilled alcohol and water in this mini co...</td>\n",
              "      <td>enjoy 3 night stay thing n't like room n't microwave fridge mean provide chill alcohol water mini cooler look thing candy snack touch lol odd reasoni noticed hilton hotel fan restroom lol love bed...</td>\n",
              "    </tr>\n",
              "    <tr>\n",
              "      <th>4981</th>\n",
              "      <td>Y</td>\n",
              "      <td>Just completed a big family reunion at this property. We had a luncheon buffet and a dinner buffet, and all of the food was excellent. The pastries are to die for. The new restaurant, which opened...</td>\n",
              "      <td>complete big family reunion property luncheon buffet dinner buffet food excellent pastry die new restaurant open month ago extensive menu prior hotel staff attentive need room small bathroom small...</td>\n",
              "    </tr>\n",
              "    <tr>\n",
              "      <th>9758</th>\n",
              "      <td>NR</td>\n",
              "      <td>I really like this place.  I met my girlfriend and a friend of hers a couple of weeks ago for a drink and quick bite. The location is great as well as they are placed on the corner in front of the...</td>\n",
              "      <td>like place meet girlfriend friend couple week ago drink quick bite location great place corner movie theater garage bay door open large airy spacious price high right line area dollar compare esta...</td>\n",
              "    </tr>\n",
              "    <tr>\n",
              "      <th>2449</th>\n",
              "      <td>N</td>\n",
              "      <td>The Hilton is one of those Grand Old Ladies that has been preserved with love and attention. I booked with Priceline for $79 (Name Your Own Price) as opposed to paying $225 per night. At $225, I'd...</td>\n",
              "      <td>hilton grand old lady preserve love attention book priceline 79 price oppose pay 225 night 225 'd annoy 79 ' m delighted staff marginal desk clerk mildly snotty concierge n't answer call helpful p...</td>\n",
              "    </tr>\n",
              "    <tr>\n",
              "      <th>9795</th>\n",
              "      <td>NR</td>\n",
              "      <td>Last night after some dinner, the kids wanted to stop at BlissKiwi (frozen yogurt).  I had never heard of the place, but yet it was so close to home. Apparently they have only been open for a shor...</td>\n",
              "      <td>night dinner kid want stop blisskiwi frozen yogurt hear place close home apparently open short pull 745 place pack know attendance place instant success walk bright color trendy decor express fun ...</td>\n",
              "    </tr>\n",
              "    <tr>\n",
              "      <th>5265</th>\n",
              "      <td>Y</td>\n",
              "      <td>This hotel was exactly like you would think, the regular accommodations but i wish it were a bit closer to good food and bars. The service was great, and Spa was very clean.</td>\n",
              "      <td>hotel exactly like think regular accommodation wish bit close good food bar service great spa clean</td>\n",
              "    </tr>\n",
              "    <tr>\n",
              "      <th>5119</th>\n",
              "      <td>Y</td>\n",
              "      <td>Definitely NOT worth paying full price; I Hotwired this hotel for $175/night (about half off) and it wasn't even worth that. Hotwire had it listed as 4-4.5 stars and while it looks fancy in the lo...</td>\n",
              "      <td>definitely worth pay price hotwir hotel 175night half n't worth hotwire list 445 star look fancy lobby outside room bed fullsize good light terrible fridgemini bar situation nightmare afraid touch...</td>\n",
              "    </tr>\n",
              "    <tr>\n",
              "      <th>1570</th>\n",
              "      <td>N</td>\n",
              "      <td>Hands down one of the nicest hotels in Chicago I have ever stayed at.  Service was wonderful, location is great!  Room was so comfortable, and had a wonderful view of the Chicago River, workout ar...</td>\n",
              "      <td>hand nice hotel chicago stay service wonderful location great room comfortable wonderful view chicago river workout area modern great view stay reason come price bad chicago book hotwire</td>\n",
              "    </tr>\n",
              "    <tr>\n",
              "      <th>6331</th>\n",
              "      <td>NR</td>\n",
              "      <td>Love the Santa Ana Drag Strip margaritas, Ramses make the best. I wish it was not so close to my home, I seem to gravitate towards it between 5-7 everyday, great happy hour. The Bar B Q there is g...</td>\n",
              "      <td>love santa ana drag strip margaritas rams good wish close home gravitate 57 everyday great happy hour bar b q great serve nice waitress christina love place</td>\n",
              "    </tr>\n",
              "    <tr>\n",
              "      <th>9062</th>\n",
              "      <td>NR</td>\n",
              "      <td>Dead on cajun perfection! Great food &amp; perfect service! An absolute must experience!</td>\n",
              "      <td>dead cajun perfection great food perfect service absolute experience</td>\n",
              "    </tr>\n",
              "  </tbody>\n",
              "</table>\n",
              "</div>"
            ],
            "text/plain": [
              "     Class  \\\n",
              "639      N   \n",
              "4981     Y   \n",
              "9758    NR   \n",
              "2449     N   \n",
              "9795    NR   \n",
              "5265     Y   \n",
              "5119     Y   \n",
              "1570     N   \n",
              "6331    NR   \n",
              "9062    NR   \n",
              "\n",
              "                                                                                                                                                                                                  Description  \\\n",
              "639   I enjoyed my 3 night stay  here. The only thing I didn't like about my room was that it didn't have a microwave or  a fridge. I mean they provided us with chilled alcohol and water in this mini co...   \n",
              "4981  Just completed a big family reunion at this property. We had a luncheon buffet and a dinner buffet, and all of the food was excellent. The pastries are to die for. The new restaurant, which opened...   \n",
              "9758  I really like this place.  I met my girlfriend and a friend of hers a couple of weeks ago for a drink and quick bite. The location is great as well as they are placed on the corner in front of the...   \n",
              "2449  The Hilton is one of those Grand Old Ladies that has been preserved with love and attention. I booked with Priceline for $79 (Name Your Own Price) as opposed to paying $225 per night. At $225, I'd...   \n",
              "9795  Last night after some dinner, the kids wanted to stop at BlissKiwi (frozen yogurt).  I had never heard of the place, but yet it was so close to home. Apparently they have only been open for a shor...   \n",
              "5265                            This hotel was exactly like you would think, the regular accommodations but i wish it were a bit closer to good food and bars. The service was great, and Spa was very clean.   \n",
              "5119  Definitely NOT worth paying full price; I Hotwired this hotel for $175/night (about half off) and it wasn't even worth that. Hotwire had it listed as 4-4.5 stars and while it looks fancy in the lo...   \n",
              "1570  Hands down one of the nicest hotels in Chicago I have ever stayed at.  Service was wonderful, location is great!  Room was so comfortable, and had a wonderful view of the Chicago River, workout ar...   \n",
              "6331  Love the Santa Ana Drag Strip margaritas, Ramses make the best. I wish it was not so close to my home, I seem to gravitate towards it between 5-7 everyday, great happy hour. The Bar B Q there is g...   \n",
              "9062                                                                                                                     Dead on cajun perfection! Great food & perfect service! An absolute must experience!   \n",
              "\n",
              "                                                                                                                                                                                                   clean_desc  \n",
              "639   enjoy 3 night stay thing n't like room n't microwave fridge mean provide chill alcohol water mini cooler look thing candy snack touch lol odd reasoni noticed hilton hotel fan restroom lol love bed...  \n",
              "4981  complete big family reunion property luncheon buffet dinner buffet food excellent pastry die new restaurant open month ago extensive menu prior hotel staff attentive need room small bathroom small...  \n",
              "9758  like place meet girlfriend friend couple week ago drink quick bite location great place corner movie theater garage bay door open large airy spacious price high right line area dollar compare esta...  \n",
              "2449  hilton grand old lady preserve love attention book priceline 79 price oppose pay 225 night 225 'd annoy 79 ' m delighted staff marginal desk clerk mildly snotty concierge n't answer call helpful p...  \n",
              "9795  night dinner kid want stop blisskiwi frozen yogurt hear place close home apparently open short pull 745 place pack know attendance place instant success walk bright color trendy decor express fun ...  \n",
              "5265                                                                                                      hotel exactly like think regular accommodation wish bit close good food bar service great spa clean  \n",
              "5119  definitely worth pay price hotwir hotel 175night half n't worth hotwire list 445 star look fancy lobby outside room bed fullsize good light terrible fridgemini bar situation nightmare afraid touch...  \n",
              "1570               hand nice hotel chicago stay service wonderful location great room comfortable wonderful view chicago river workout area modern great view stay reason come price bad chicago book hotwire  \n",
              "6331                                             love santa ana drag strip margaritas rams good wish close home gravitate 57 everyday great happy hour bar b q great serve nice waitress christina love place  \n",
              "9062                                                                                                                                     dead cajun perfection great food perfect service absolute experience  "
            ]
          },
          "metadata": {
            "tags": []
          },
          "execution_count": 23
        }
      ]
    },
    {
      "metadata": {
        "id": "uRYEFafMIBvo",
        "colab_type": "code",
        "colab": {}
      },
      "cell_type": "code",
      "source": [
        "from sklearn.feature_extraction.text import TfidfVectorizer\n"
      ],
      "execution_count": 0,
      "outputs": []
    },
    {
      "metadata": {
        "id": "1De8xOqfIMpF",
        "colab_type": "code",
        "colab": {}
      },
      "cell_type": "code",
      "source": [
        "# build TF-IDF features for train data\n",
        "cv = TfidfVectorizer(use_idf=True, min_df=5, max_df=0.4, ngram_range=(1,2),\n",
        "                        sublinear_tf=True,)\n",
        "cv_train = cv.fit_transform(df_X['clean_desc'])"
      ],
      "execution_count": 0,
      "outputs": []
    },
    {
      "metadata": {
        "id": "87RanoTeIYG_",
        "colab_type": "code",
        "colab": {
          "base_uri": "https://localhost:8080/",
          "height": 51
        },
        "outputId": "a5ba541d-4057-40b5-d2d4-080490ca4c79"
      },
      "cell_type": "code",
      "source": [
        "cv_train"
      ],
      "execution_count": 30,
      "outputs": [
        {
          "output_type": "execute_result",
          "data": {
            "text/plain": [
              "<10000x22811 sparse matrix of type '<class 'numpy.float64'>'\n",
              "\twith 695681 stored elements in Compressed Sparse Row format>"
            ]
          },
          "metadata": {
            "tags": []
          },
          "execution_count": 30
        }
      ]
    },
    {
      "metadata": {
        "id": "ST_ovdA-IgkK",
        "colab_type": "text"
      },
      "cell_type": "markdown",
      "source": [
        "Training the model using SVM"
      ]
    },
    {
      "metadata": {
        "id": "WmkZiLwLIZt9",
        "colab_type": "code",
        "colab": {}
      },
      "cell_type": "code",
      "source": [
        "from sklearn.model_selection import train_test_split"
      ],
      "execution_count": 0,
      "outputs": []
    },
    {
      "metadata": {
        "id": "rpZ0_sV3IHus",
        "colab_type": "code",
        "colab": {}
      },
      "cell_type": "code",
      "source": [
        "X_train, X_test, y_train, y_test = train_test_split(cv_train,df_X['Class'], test_size=0.3, random_state=42)"
      ],
      "execution_count": 0,
      "outputs": []
    },
    {
      "metadata": {
        "id": "KV_x4bKfIt-U",
        "colab_type": "code",
        "colab": {
          "base_uri": "https://localhost:8080/",
          "height": 34
        },
        "outputId": "bf97c690-26ae-4855-ad09-d2172bc35732"
      },
      "cell_type": "code",
      "source": [
        "X_train.shape"
      ],
      "execution_count": 33,
      "outputs": [
        {
          "output_type": "execute_result",
          "data": {
            "text/plain": [
              "(7000, 22811)"
            ]
          },
          "metadata": {
            "tags": []
          },
          "execution_count": 33
        }
      ]
    },
    {
      "metadata": {
        "id": "SpnzdxlSIuxd",
        "colab_type": "code",
        "colab": {
          "base_uri": "https://localhost:8080/",
          "height": 34
        },
        "outputId": "3668b20e-6ebe-4c74-b241-61cb6e0391dd"
      },
      "cell_type": "code",
      "source": [
        "X_test.shape"
      ],
      "execution_count": 34,
      "outputs": [
        {
          "output_type": "execute_result",
          "data": {
            "text/plain": [
              "(3000, 22811)"
            ]
          },
          "metadata": {
            "tags": []
          },
          "execution_count": 34
        }
      ]
    },
    {
      "metadata": {
        "id": "0HzWKaCWIzSd",
        "colab_type": "code",
        "colab": {
          "base_uri": "https://localhost:8080/",
          "height": 34
        },
        "outputId": "3aaa4614-369e-4c6c-e5b6-1cacf979ea08"
      },
      "cell_type": "code",
      "source": [
        "y_train.shape"
      ],
      "execution_count": 35,
      "outputs": [
        {
          "output_type": "execute_result",
          "data": {
            "text/plain": [
              "(7000,)"
            ]
          },
          "metadata": {
            "tags": []
          },
          "execution_count": 35
        }
      ]
    },
    {
      "metadata": {
        "id": "rjds5gz9I0fm",
        "colab_type": "code",
        "colab": {
          "base_uri": "https://localhost:8080/",
          "height": 34
        },
        "outputId": "501da644-07ed-46d2-90d5-c8085b20e3bf"
      },
      "cell_type": "code",
      "source": [
        "y_test.shape"
      ],
      "execution_count": 36,
      "outputs": [
        {
          "output_type": "execute_result",
          "data": {
            "text/plain": [
              "(3000,)"
            ]
          },
          "metadata": {
            "tags": []
          },
          "execution_count": 36
        }
      ]
    },
    {
      "metadata": {
        "id": "GHPKzh6bI3K7",
        "colab_type": "code",
        "colab": {}
      },
      "cell_type": "code",
      "source": [
        "from sklearn import svm"
      ],
      "execution_count": 0,
      "outputs": []
    },
    {
      "metadata": {
        "id": "NICfcTEkI7V3",
        "colab_type": "code",
        "colab": {
          "base_uri": "https://localhost:8080/",
          "height": 85
        },
        "outputId": "92201b3d-5e35-44a8-e469-3c33347efc0f"
      },
      "cell_type": "code",
      "source": [
        "clf = svm.SVC(gamma='scale', decision_function_shape='ovo')\n",
        "\n",
        "clf.fit(X_train,y_train)"
      ],
      "execution_count": 38,
      "outputs": [
        {
          "output_type": "execute_result",
          "data": {
            "text/plain": [
              "SVC(C=1.0, cache_size=200, class_weight=None, coef0=0.0,\n",
              "  decision_function_shape='ovo', degree=3, gamma='scale', kernel='rbf',\n",
              "  max_iter=-1, probability=False, random_state=None, shrinking=True,\n",
              "  tol=0.001, verbose=False)"
            ]
          },
          "metadata": {
            "tags": []
          },
          "execution_count": 38
        }
      ]
    },
    {
      "metadata": {
        "id": "A5EXbzAuJIIE",
        "colab_type": "code",
        "colab": {
          "base_uri": "https://localhost:8080/",
          "height": 258
        },
        "outputId": "12820aee-db51-40e7-a4a8-2dd8bdd3c598"
      },
      "cell_type": "code",
      "source": [
        "from sklearn import metrics\n",
        "y_pred = clf.predict(X_test)\n",
        "print(metrics.classification_report(y_test, y_pred))"
      ],
      "execution_count": 39,
      "outputs": [
        {
          "output_type": "stream",
          "text": [
            "              precision    recall  f1-score   support\n",
            "\n",
            "           N       0.82      0.98      0.89      1551\n",
            "          NR       0.62      0.84      0.72       746\n",
            "           Y       0.00      0.00      0.00       240\n",
            "          YR       0.63      0.19      0.29       463\n",
            "\n",
            "   micro avg       0.74      0.74      0.74      3000\n",
            "   macro avg       0.52      0.50      0.48      3000\n",
            "weighted avg       0.68      0.74      0.68      3000\n",
            "\n"
          ],
          "name": "stdout"
        },
        {
          "output_type": "stream",
          "text": [
            "/usr/local/lib/python3.6/dist-packages/sklearn/metrics/classification.py:1143: UndefinedMetricWarning: Precision and F-score are ill-defined and being set to 0.0 in labels with no predicted samples.\n",
            "  'precision', 'predicted', average, warn_for)\n"
          ],
          "name": "stderr"
        }
      ]
    },
    {
      "metadata": {
        "id": "CuUzRvHoJNVk",
        "colab_type": "code",
        "colab": {}
      },
      "cell_type": "code",
      "source": [
        ""
      ],
      "execution_count": 0,
      "outputs": []
    }
  ]
}